{
 "cells": [
  {
   "cell_type": "code",
   "execution_count": 2,
   "metadata": {},
   "outputs": [
    {
     "name": "stdout",
     "output_type": "stream",
     "text": [
      "x is currently: 0\n",
      "x is currently: 1\n",
      "x is currently: 2\n",
      "x is currently: 3\n",
      "x is currently: 4\n",
      "x is currently: 5\n",
      "x is currently: 6\n",
      "x is currently: 7\n",
      "x is currently: 8\n",
      "x is currently: 9\n"
     ]
    }
   ],
   "source": [
    "x = 0\n",
    "while x < 10: \n",
    "    print ('x is currently:', x)\n",
    "    x +=1"
   ]
  },
  {
   "cell_type": "code",
   "execution_count": 4,
   "metadata": {},
   "outputs": [
    {
     "name": "stdout",
     "output_type": "stream",
     "text": [
      "x is currently: 0\n",
      "x is currently: 1\n",
      "x is currently: 2\n",
      "x is currently: 3\n",
      "x is currently: 4\n",
      "x is currently: 5\n",
      "x is currently: 6\n",
      "x is currently: 7\n",
      "x is currently: 8\n",
      "x is currently: 9\n",
      "x is currently: 10\n",
      "x is currently: 11\n",
      "x is currently: 12\n",
      "x is currently: 13\n",
      "x is currently: 14\n",
      "x is currently: 15\n",
      "x is currently: 16\n",
      "x is currently: 17\n",
      "x is currently: 18\n",
      "x is currently: 19\n",
      "x is currently: 20\n",
      "x is currently: 21\n",
      "x is currently: 22\n",
      "x is currently: 23\n",
      "x is currently: 24\n",
      "x is currently: 25\n",
      "x is currently: 26\n",
      "x is currently: 27\n",
      "x is currently: 28\n",
      "x is currently: 29\n",
      "x is currently: 30\n",
      "x is currently: 31\n",
      "x is currently: 32\n",
      "x is currently: 33\n",
      "x is currently: 34\n",
      "x is currently: 35\n",
      "x is currently: 36\n",
      "x is currently: 37\n",
      "x is currently: 38\n",
      "x is currently: 39\n",
      "x is currently: 40\n",
      "x is currently: 41\n",
      "x is currently: 42\n",
      "x is currently: 43\n",
      "x is currently: 44\n",
      "x is currently: 45\n",
      "x is currently: 46\n",
      "x is currently: 47\n",
      "x is currently: 48\n",
      "x is currently: 49\n"
     ]
    }
   ],
   "source": [
    "x = 0\n",
    "while x < 50: \n",
    "    print ('x is currently:', x)\n",
    "    x +=1"
   ]
  },
  {
   "cell_type": "code",
   "execution_count": 5,
   "metadata": {},
   "outputs": [
    {
     "name": "stdout",
     "output_type": "stream",
     "text": [
      "x is currently: 0\n",
      "x is currently: 1\n",
      "x is currently: 2\n",
      "x is currently: 3\n",
      "x is currently: 4\n",
      "x is currently: 5\n",
      "x is currently: 6\n",
      "x is currently: 7\n",
      "x is currently: 8\n",
      "x is currently: 9\n",
      "All Done\n"
     ]
    }
   ],
   "source": [
    "x = 0\n",
    "while x < 10: \n",
    "    print ('x is currently:', x)\n",
    "    x +=1\n",
    "else:\n",
    "    print ('All Done')"
   ]
  },
  {
   "cell_type": "code",
   "execution_count": 6,
   "metadata": {},
   "outputs": [
    {
     "name": "stdout",
     "output_type": "stream",
     "text": [
      "x is currently: 0\n",
      "x is still less then 10, adding 1 to x\n",
      "Continuing.....\n",
      "x is currently: 1\n",
      "x is still less then 10, adding 1 to x\n",
      "Continuing.....\n",
      "x is currently: 2\n",
      "x is still less then 10, adding 1 to x\n",
      "Hey x is equal to 3\n",
      "x is currently: 3\n",
      "x is still less then 10, adding 1 to x\n",
      "Continuing.....\n",
      "x is currently: 4\n",
      "x is still less then 10, adding 1 to x\n",
      "Continuing.....\n",
      "x is currently: 5\n",
      "x is still less then 10, adding 1 to x\n",
      "Continuing.....\n",
      "x is currently: 6\n",
      "x is still less then 10, adding 1 to x\n",
      "Continuing.....\n",
      "x is currently: 7\n",
      "x is still less then 10, adding 1 to x\n",
      "Continuing.....\n",
      "x is currently: 8\n",
      "x is still less then 10, adding 1 to x\n",
      "Continuing.....\n",
      "x is currently: 9\n",
      "x is still less then 10, adding 1 to x\n",
      "Continuing.....\n"
     ]
    }
   ],
   "source": [
    "x = 0\n",
    "while x < 10:\n",
    "    print ('x is currently:', x)\n",
    "    print ('x is still less then 10, adding 1 to x')\n",
    "    x +=1\n",
    "    \n",
    "    if x == 3:\n",
    "        print ('Hey x is equal to 3')\n",
    "    else:\n",
    "        print ('Continuing.....')\n",
    "        continue"
   ]
  },
  {
   "cell_type": "code",
   "execution_count": 7,
   "metadata": {},
   "outputs": [
    {
     "name": "stdout",
     "output_type": "stream",
     "text": [
      "x is currently: 0\n",
      "0\n",
      "x is still less then 10, adding 1 to x\n",
      "Continuing.....\n",
      "x is currently: 1\n",
      "1\n",
      "x is still less then 10, adding 1 to x\n",
      "Continuing.....\n",
      "x is currently: 2\n",
      "2\n",
      "x is still less then 10, adding 1 to x\n",
      "Hey x is equal to 3\n",
      "x is currently: 3\n",
      "3\n",
      "x is still less then 10, adding 1 to x\n",
      "Continuing.....\n",
      "x is currently: 4\n",
      "4\n",
      "x is still less then 10, adding 1 to x\n",
      "Continuing.....\n",
      "x is currently: 5\n",
      "5\n",
      "x is still less then 10, adding 1 to x\n",
      "Continuing.....\n",
      "x is currently: 6\n",
      "6\n",
      "x is still less then 10, adding 1 to x\n",
      "Continuing.....\n",
      "x is currently: 7\n",
      "7\n",
      "x is still less then 10, adding 1 to x\n",
      "Continuing.....\n",
      "x is currently: 8\n",
      "8\n",
      "x is still less then 10, adding 1 to x\n",
      "Continuing.....\n",
      "x is currently: 9\n",
      "9\n",
      "x is still less then 10, adding 1 to x\n",
      "Continuing.....\n"
     ]
    }
   ],
   "source": [
    "x = 0\n",
    "while x < 10:\n",
    "    print ('x is currently:', x)\n",
    "    print(x)\n",
    "    print ('x is still less then 10, adding 1 to x')\n",
    "    x +=1\n",
    "    \n",
    "    if x == 3:\n",
    "        print ('Hey x is equal to 3')\n",
    "    else:\n",
    "        print ('Continuing.....')\n",
    "        continue"
   ]
  },
  {
   "cell_type": "code",
   "execution_count": 10,
   "metadata": {},
   "outputs": [
    {
     "name": "stdout",
     "output_type": "stream",
     "text": [
      "x is currently: 0\n",
      "0\n",
      "x is still less then 10, adding 1 to x\n",
      "breaking.....\n"
     ]
    }
   ],
   "source": [
    "x = 0\n",
    "while x < 10:\n",
    "    print ('x is currently:', x)\n",
    "    print(x)\n",
    "    print ('x is still less then 10, adding 1 to x')\n",
    "    x +=1\n",
    "    \n",
    "    if x == 3:\n",
    "        print ('Hey x is equal to 3')\n",
    "    else:\n",
    "        print ('breaking.....')\n",
    "        break"
   ]
  },
  {
   "cell_type": "code",
   "execution_count": 1,
   "metadata": {},
   "outputs": [
    {
     "name": "stdout",
     "output_type": "stream",
     "text": [
      "1\n",
      "2\n",
      "3\n",
      "4\n",
      "5\n"
     ]
    }
   ],
   "source": [
    "i = 1\n",
    "while i < 6:\n",
    "    print(i)\n",
    "    i += 1"
   ]
  },
  {
   "cell_type": "code",
   "execution_count": 3,
   "metadata": {},
   "outputs": [
    {
     "name": "stdout",
     "output_type": "stream",
     "text": [
      "1\n",
      "2\n",
      "3\n",
      "4\n",
      "5\n",
      "I is no less than 6\n"
     ]
    }
   ],
   "source": [
    "i = 1\n",
    "while i < 6:\n",
    "    print(i)\n",
    "    i += 1\n",
    "else:\n",
    "    print(\"I is no less than 6\")"
   ]
  },
  {
   "cell_type": "code",
   "execution_count": 4,
   "metadata": {},
   "outputs": [
    {
     "name": "stdout",
     "output_type": "stream",
     "text": [
      "The count is 0\n",
      "The count is 1\n",
      "The count is 2\n",
      "The count is 3\n",
      "The count is 4\n",
      "The count is 5\n",
      "The count is 6\n",
      "The count is 7\n",
      "The count is 8\n",
      "Good Bye!\n"
     ]
    }
   ],
   "source": [
    "count = 0\n",
    "while (count<9):\n",
    "    print('The count is', count)\n",
    "    count = count + 1\n",
    "print(\"Good Bye!\")"
   ]
  },
  {
   "cell_type": "code",
   "execution_count": 5,
   "metadata": {},
   "outputs": [
    {
     "name": "stdout",
     "output_type": "stream",
     "text": [
      "0  is less than 5\n",
      "1  is less than 5\n",
      "2  is less than 5\n",
      "3  is less than 5\n",
      "4  is less than 5\n",
      "5  is not less than 5\n"
     ]
    }
   ],
   "source": [
    "count = 0\n",
    "while count < 5:\n",
    "    print(count, \" is less than 5\")\n",
    "    count = count + 1\n",
    "else:\n",
    "    print(count, \" is not less than 5\")"
   ]
  },
  {
   "cell_type": "code",
   "execution_count": 6,
   "metadata": {},
   "outputs": [
    {
     "name": "stdout",
     "output_type": "stream",
     "text": [
      "In if condition\n",
      "In if condition\n",
      "In if condition\n",
      "Le bahi else loop chal gai\n"
     ]
    }
   ],
   "source": [
    "counter = 0\n",
    "\n",
    "while counter < 3:\n",
    "    print(\"In if condition\")\n",
    "    counter = counter + 1\n",
    "else:\n",
    "    print(\"Le bahi else loop chal gai\")"
   ]
  },
  {
   "cell_type": "code",
   "execution_count": 8,
   "metadata": {},
   "outputs": [
    {
     "name": "stdout",
     "output_type": "stream",
     "text": [
      "Riaz\n",
      "Usama\n",
      "Noman\n"
     ]
    }
   ],
   "source": [
    "a = ['Noman', \"Usama\", \"Riaz\"]\n",
    "while a:\n",
    "    print(a.pop(-1))"
   ]
  },
  {
   "cell_type": "code",
   "execution_count": 12,
   "metadata": {},
   "outputs": [
    {
     "name": "stdout",
     "output_type": "stream",
     "text": [
      "4\n",
      "3\n",
      "Loop ended......\n"
     ]
    }
   ],
   "source": [
    "n = 5\n",
    "while n > 0:\n",
    "    n -= 1\n",
    "    if n == 2:\n",
    "        break\n",
    "    print(n)\n",
    "print('Loop ended......')\n",
    "    "
   ]
  },
  {
   "cell_type": "code",
   "execution_count": 10,
   "metadata": {},
   "outputs": [
    {
     "name": "stdout",
     "output_type": "stream",
     "text": [
      "4\n",
      "3\n",
      "1\n",
      "0\n",
      "Loop ended......\n"
     ]
    }
   ],
   "source": [
    "n = 5\n",
    "while n > 0:\n",
    "    n -= 1\n",
    "    if n == 2:\n",
    "        continue\n",
    "    print(n)\n",
    "print('Loop ended......')"
   ]
  },
  {
   "cell_type": "code",
   "execution_count": 29,
   "metadata": {},
   "outputs": [
    {
     "name": "stdout",
     "output_type": "stream",
     "text": [
      "4\n",
      "3\n",
      "2\n",
      "1\n",
      "0\n",
      "0\n"
     ]
    }
   ],
   "source": [
    "n = 5\n",
    "while n > 0 :\n",
    "    n -= 1\n",
    "    if n == 10:\n",
    "        continue\n",
    "    print(n)\n",
    "else:\n",
    "    print(n)"
   ]
  },
  {
   "cell_type": "code",
   "execution_count": 30,
   "metadata": {},
   "outputs": [
    {
     "name": "stdout",
     "output_type": "stream",
     "text": [
      "4\n",
      "3\n",
      "2\n",
      "1\n",
      "0\n"
     ]
    }
   ],
   "source": [
    "n = 5\n",
    "while n > 0 :\n",
    "    n -= 1\n",
    "    if n == 10:\n",
    "        continue\n",
    "    print(n)"
   ]
  },
  {
   "cell_type": "code",
   "execution_count": 27,
   "metadata": {},
   "outputs": [
    {
     "name": "stdout",
     "output_type": "stream",
     "text": [
      "0\n"
     ]
    }
   ],
   "source": [
    "print(n)"
   ]
  },
  {
   "cell_type": "code",
   "execution_count": 17,
   "metadata": {},
   "outputs": [
    {
     "name": "stdout",
     "output_type": "stream",
     "text": [
      "4\n",
      "Loop Done......\n"
     ]
    }
   ],
   "source": [
    "n = 5\n",
    "while n > 0:\n",
    "    n -= 1\n",
    "    if n == 3:\n",
    "        break\n",
    "    print(n)\n",
    "print('Loop Done......')"
   ]
  },
  {
   "cell_type": "code",
   "execution_count": 37,
   "metadata": {},
   "outputs": [
    {
     "name": "stdout",
     "output_type": "stream",
     "text": [
      "Asad is found list\n"
     ]
    }
   ],
   "source": [
    "A = [1,3,4,5]\n",
    "s = 'Asad'\n",
    "i = 9\n",
    "while i < len(A):\n",
    "    if a[i] == s:\n",
    "        continue\n",
    "    i += 1\n",
    "else:\n",
    "    print(s, 'is found list')"
   ]
  },
  {
   "cell_type": "code",
   "execution_count": 40,
   "metadata": {},
   "outputs": [
    {
     "name": "stdout",
     "output_type": "stream",
     "text": [
      "Asad is found list\n"
     ]
    }
   ],
   "source": [
    "s = 'Asad'\n",
    "print(s, 'is found list')"
   ]
  },
  {
   "cell_type": "code",
   "execution_count": 12,
   "metadata": {},
   "outputs": [
    {
     "data": {
      "text/plain": [
       "'b'"
      ]
     },
     "execution_count": 12,
     "metadata": {},
     "output_type": "execute_result"
    }
   ],
   "source": [
    "a = \"a\"\n",
    "b = \"b\"\n",
    "a\n",
    "b"
   ]
  },
  {
   "cell_type": "code",
   "execution_count": null,
   "metadata": {},
   "outputs": [],
   "source": []
  }
 ],
 "metadata": {
  "kernelspec": {
   "display_name": "Python 3",
   "language": "python",
   "name": "python3"
  },
  "language_info": {
   "codemirror_mode": {
    "name": "ipython",
    "version": 3
   },
   "file_extension": ".py",
   "mimetype": "text/x-python",
   "name": "python",
   "nbconvert_exporter": "python",
   "pygments_lexer": "ipython3",
   "version": "3.7.6"
  }
 },
 "nbformat": 4,
 "nbformat_minor": 4
}
